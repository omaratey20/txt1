{
 "cells": [
  {
   "cell_type": "code",
   "execution_count": 1,
   "id": "42c827fe-4b10-4e4a-8087-368bae1382d5",
   "metadata": {},
   "outputs": [
    {
     "name": "stdout",
     "output_type": "stream",
     "text": [
      "    *\n",
      "   ***\n",
      "  *****\n",
      " *******\n",
      "*********\n",
      " *******\n",
      "  *****\n",
      "   ***\n",
      "    *\n"
     ]
    }
   ],
   "source": [
    "rows = 5\n",
    "for i in range(rows):\n",
    "    print(\" \" * (rows - i - 1) + \"*\" * (2*i + 1))\n",
    "for i in range(rows-2, -1, -1):\n",
    "    print(\" \" * (rows - i - 1) + \"*\" * (2*i + 1))\n"
   ]
  },
  {
   "cell_type": "code",
   "execution_count": 2,
   "id": "8143cb37-93f3-47c6-ad38-e0c197bc6d97",
   "metadata": {},
   "outputs": [
    {
     "name": "stdout",
     "output_type": "stream",
     "text": [
      "0.9091\n"
     ]
    }
   ],
   "source": [
    "x = 10\n",
    "result = x / (x + 1)\n",
    "print(round(result, 4))  "
   ]
  },
  {
   "cell_type": "code",
   "execution_count": 3,
   "id": "6244aad9-7e50-4a3f-a45e-e8142103978c",
   "metadata": {},
   "outputs": [
    {
     "name": "stdout",
     "output_type": "stream",
     "text": [
      "50\n"
     ]
    }
   ],
   "source": [
    "x = 50\n",
    "y = 95\n",
    "c = x\n",
    "z = y - c\n",
    "z += 5\n",
    "print(z)  "
   ]
  },
  {
   "cell_type": "code",
   "execution_count": 4,
   "id": "a8e47d85-e973-471a-a662-35b38dfdae7f",
   "metadata": {},
   "outputs": [
    {
     "name": "stdout",
     "output_type": "stream",
     "text": [
      "['ha', 'rpy']\n",
      "['Mas', 'tery']\n",
      "['He was', ' Lucky']\n"
     ]
    }
   ],
   "source": [
    "def split_sentence(s):\n",
    "    mid = len(s) // 2\n",
    "    return [s[:mid], s[mid:]]\n",
    "\n",
    "print(split_sentence(\"harpy\"))     \n",
    "print(split_sentence(\"Mastery\"))    \n",
    "print(split_sentence(\"He was Lucky\"))  \n"
   ]
  },
  {
   "cell_type": "code",
   "execution_count": null,
   "id": "a6309ef1-6b52-4d0d-9765-cec1952fb57d",
   "metadata": {},
   "outputs": [],
   "source": [
    "first = input(\"Enter your first name: \")\n",
    "last = input(\"Enter your last name: \")\n",
    "print(f\"{last} {first}\")\n"
   ]
  },
  {
   "cell_type": "code",
   "execution_count": null,
   "id": "9ac8eee8-22d3-4668-b324-e123f8418b77",
   "metadata": {},
   "outputs": [],
   "source": [
    "nums = input(\"Enter numbers separated by commas: \")\n",
    "num_list = nums.split(\",\")\n",
    "num_tuple = tuple(num_list)\n",
    "print(\"List:\", num_list)\n",
    "print(\"Tuple:\", num_tuple)\n"
   ]
  },
  {
   "cell_type": "code",
   "execution_count": null,
   "id": "38bcf6de-d2c2-4173-9ad3-b864efce4683",
   "metadata": {},
   "outputs": [],
   "source": [
    "width = float(input(\"Enter width: \"))\n",
    "height = float(input(\"Enter height: \"))\n",
    "area = width * height\n",
    "print(\"Area of the rectangle is:\", area)\n"
   ]
  },
  {
   "cell_type": "code",
   "execution_count": null,
   "id": "b85cffa4-207e-455d-93b4-c543ed14253f",
   "metadata": {},
   "outputs": [],
   "source": []
  }
 ],
 "metadata": {
  "kernelspec": {
   "display_name": "Python 3 (ipykernel)",
   "language": "python",
   "name": "python3"
  },
  "language_info": {
   "codemirror_mode": {
    "name": "ipython",
    "version": 3
   },
   "file_extension": ".py",
   "mimetype": "text/x-python",
   "name": "python",
   "nbconvert_exporter": "python",
   "pygments_lexer": "ipython3",
   "version": "3.12.7"
  }
 },
 "nbformat": 4,
 "nbformat_minor": 5
}
